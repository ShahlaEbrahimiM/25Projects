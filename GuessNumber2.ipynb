{
 "cells": [
  {
   "cell_type": "markdown",
   "metadata": {},
   "source": [
    "# Build a Number guessing game, \n",
    "in which the user selects a range.\n",
    "Let’s say User selected a range, i.e., from A to B, where A and B belong to Integer.\n",
    "Some random integer will be selected by the system and the user has to guess that integer in the minimum number of guesses."
   ]
  },
  {
   "cell_type": "code",
   "execution_count": 34,
   "metadata": {},
   "outputs": [],
   "source": [
    "import random\n",
    "import math"
   ]
  },
  {
   "cell_type": "code",
   "execution_count": 35,
   "metadata": {},
   "outputs": [
    {
     "name": "stdout",
     "output_type": "stream",
     "text": [
      "Enter lower bound: 1\n",
      "Enter upper bound: 1000\n"
     ]
    }
   ],
   "source": [
    "#Taking inputs\n",
    "lower = int(input(\"Enter lower bound: \"))\n",
    "\n",
    "#Taking input\n",
    "upper = int(input(\"Enter upper bound: \"))"
   ]
  },
  {
   "cell_type": "markdown",
   "metadata": {},
   "source": [
    "the minimum number of guesses depends upon range. And the compiler must calculate the minimum number of guessing depends upon the range, on its own. For this, we have a formula:-\n",
    "\n",
    " Minimum number of guessing = log2(Upper bound – lower bound + 1)"
   ]
  },
  {
   "cell_type": "code",
   "execution_count": 36,
   "metadata": {},
   "outputs": [
    {
     "name": "stdout",
     "output_type": "stream",
     "text": [
      "\n",
      "\tYou've only 10  chances to guess the integer!\n",
      "\n"
     ]
    }
   ],
   "source": [
    "#Generating random number between\n",
    "#lower and upper\n",
    "\n",
    "x = random.randint(lower, upper)\n",
    "\n",
    "#math.log(a, base) Return the logarithm of a to the given base.\n",
    "nguess= round(math.log(upper-lower+1, 2))\n",
    "\n",
    "\n",
    "# \\n new line  \\t one tab in the first line.\n",
    "\n",
    "print(\"\\n\\tYou've only\" ,nguess, \" chances to guess the integer!\\n\")"
   ]
  },
  {
   "cell_type": "code",
   "execution_count": 37,
   "metadata": {},
   "outputs": [],
   "source": [
    "# Initializing the number of guesses.\n",
    "count = 0"
   ]
  },
  {
   "cell_type": "code",
   "execution_count": 38,
   "metadata": {},
   "outputs": [
    {
     "name": "stdout",
     "output_type": "stream",
     "text": [
      "Guess a number: 500\n",
      "You guessed too high!\n",
      "Guess a number: 250\n",
      "You guessed too small!\n",
      "Guess a number: 360\n",
      "You guessed too small!\n",
      "Guess a number: 400\n",
      "You guessed too high!\n",
      "Guess a number: 370\n",
      "You guessed too small!\n",
      "Guess a number: 380\n",
      "You guessed too small!\n",
      "Guess a number: 396\n",
      "You guessed too high!\n",
      "Guess a number: 385\n",
      "You guessed too small!\n",
      "Guess a number: 389\n",
      "You guessed too small!\n",
      "Guess a number: 394\n",
      "You guessed too small!\n",
      "\n",
      "The number is 395\n",
      "\tBetter luck next time!\n"
     ]
    }
   ],
   "source": [
    "while count < nguess:\n",
    "    count +=1\n",
    "    \n",
    "    #taking geussing a number\n",
    "    guess = int(input(\"Guess a number: \"))\n",
    "    \n",
    "    # Condition testing\n",
    "    if guess == x:\n",
    "        print(\"Congratulations you did it in \", count ,\"Try!\")\n",
    "        break\n",
    "        # Once guessed, loop will break\n",
    "        \n",
    "    elif guess < x:\n",
    "            print(\"You guessed too small!\")\n",
    "        \n",
    "    elif guess > x:\n",
    "            print(\"You guessed too high!\")\n",
    "            \n",
    "if count >= nguess:\n",
    "    print(\"\\nThe number is %d.\" % x)\n",
    "    print(\"\\tBetter luck next time!\")\n",
    "            "
   ]
  },
  {
   "cell_type": "code",
   "execution_count": null,
   "metadata": {},
   "outputs": [],
   "source": []
  }
 ],
 "metadata": {
  "kernelspec": {
   "display_name": "Python 3",
   "language": "python",
   "name": "python3"
  },
  "language_info": {
   "codemirror_mode": {
    "name": "ipython",
    "version": 3
   },
   "file_extension": ".py",
   "mimetype": "text/x-python",
   "name": "python",
   "nbconvert_exporter": "python",
   "pygments_lexer": "ipython3",
   "version": "3.8.5"
  }
 },
 "nbformat": 4,
 "nbformat_minor": 4
}
