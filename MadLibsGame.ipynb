{
 "cells": [
  {
   "cell_type": "markdown",
   "metadata": {},
   "source": [
    "# 25 python projects for beginner\n",
    "\n",
    "## 1.Mad Libs Game\n",
    "\n",
    "#### Mad Libs is a phrasal template word game created by Leonard Stern and Roger Price.It consists of one player prompting others for a list of words to substitute for blanks in a story before reading aloud. The game is frequently played as a party game or as a pastime.\n",
    "\n",
    "#### The game was invented in the United States, and more than 110 million copies of Mad Libs books have been sold since the series was first published in 1958."
   ]
  },
  {
   "cell_type": "code",
   "execution_count": 1,
   "metadata": {},
   "outputs": [
    {
     "name": "stdout",
     "output_type": "stream",
     "text": [
      "Enter a color:red\n",
      "Enter a plural noun:family\n",
      "Enter a celebrity:Shakira\n"
     ]
    }
   ],
   "source": [
    "Color = input(\"Enter a color:\")\n",
    "PluralNoun = input(\"Enter a plural noun:\")\n",
    "Celebrity = input(\"Enter a celebrity:\")"
   ]
  },
  {
   "cell_type": "code",
   "execution_count": 3,
   "metadata": {},
   "outputs": [
    {
     "name": "stdout",
     "output_type": "stream",
     "text": [
      "Roses are red. family are blue. I love Shakira.\n"
     ]
    }
   ],
   "source": [
    "print('Roses are {}. {} are blue. I love {}.'.format(Color,PluralNoun,Celebrity))"
   ]
  },
  {
   "cell_type": "code",
   "execution_count": null,
   "metadata": {},
   "outputs": [],
   "source": []
  }
 ],
 "metadata": {
  "kernelspec": {
   "display_name": "Python 3",
   "language": "python",
   "name": "python3"
  },
  "language_info": {
   "codemirror_mode": {
    "name": "ipython",
    "version": 3
   },
   "file_extension": ".py",
   "mimetype": "text/x-python",
   "name": "python",
   "nbconvert_exporter": "python",
   "pygments_lexer": "ipython3",
   "version": "3.8.5"
  }
 },
 "nbformat": 4,
 "nbformat_minor": 4
}
