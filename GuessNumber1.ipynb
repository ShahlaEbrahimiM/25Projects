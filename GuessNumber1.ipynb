{
 "cells": [
  {
   "cell_type": "markdown",
   "metadata": {},
   "source": [
    "# Guess the Number Game Python Project (computer)\n",
    "You will learn how to work with Python's random module, build functions, work with while loops and conditionals, and get user input."
   ]
  },
  {
   "cell_type": "code",
   "execution_count": 1,
   "metadata": {},
   "outputs": [],
   "source": [
    "import random               #enter random library"
   ]
  },
  {
   "cell_type": "code",
   "execution_count": 2,
   "metadata": {},
   "outputs": [],
   "source": [
    "num = random.randint(1,10)      #Return random integer in range [a, b], including both end points."
   ]
  },
  {
   "cell_type": "code",
   "execution_count": 3,
   "metadata": {},
   "outputs": [
    {
     "name": "stdout",
     "output_type": "stream",
     "text": [
      "7\n"
     ]
    }
   ],
   "source": [
    "print(num)"
   ]
  },
  {
   "cell_type": "code",
   "execution_count": 4,
   "metadata": {},
   "outputs": [],
   "source": [
    "guess = None           #Create and return a new object."
   ]
  },
  {
   "cell_type": "code",
   "execution_count": 5,
   "metadata": {},
   "outputs": [
    {
     "name": "stdout",
     "output_type": "stream",
     "text": [
      "Guess a number between 1 and 10: 8\n",
      "nope! sorry, try again!\n",
      "Guess a number between 1 and 10: 7\n",
      "Congratulation, you won!\n"
     ]
    }
   ],
   "source": [
    "while guess != num:       # != means is not equal.\n",
    "    \n",
    "    guess = input(\"Guess a number between 1 and 10: \")\n",
    "    guess = int(guess)\n",
    "    \n",
    "    if guess == num:\n",
    "        print(\"Congratulation, you won!\")\n",
    "        break           # I dont now why?\n",
    "       \n",
    "    else:\n",
    "        print(\"nope! sorry, try again!\")\n",
    "    "
   ]
  },
  {
   "cell_type": "code",
   "execution_count": null,
   "metadata": {},
   "outputs": [],
   "source": []
  }
 ],
 "metadata": {
  "kernelspec": {
   "display_name": "Python 3",
   "language": "python",
   "name": "python3"
  },
  "language_info": {
   "codemirror_mode": {
    "name": "ipython",
    "version": 3
   },
   "file_extension": ".py",
   "mimetype": "text/x-python",
   "name": "python",
   "nbconvert_exporter": "python",
   "pygments_lexer": "ipython3",
   "version": "3.8.5"
  }
 },
 "nbformat": 4,
 "nbformat_minor": 4
}
